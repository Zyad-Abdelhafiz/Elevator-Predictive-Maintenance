{
  "cells": [
    {
      "cell_type": "markdown",
      "id": "60700828",
      "metadata": {
        "id": "60700828"
      },
      "source": [
        "<center> <span style=\"color:#0F3460;font-size:30px; font-weight: bold; padding:250px ;\">Elevator Predictive Maintenance</span> </center>"
      ]
    },
    {
      "cell_type": "markdown",
      "id": "2309e998",
      "metadata": {
        "id": "2309e998"
      },
      "source": [
        "<span> <center>Datasets:https://www.kaggle.com/datasets/shivamb/elevator-predictive-maintenance-dataset </center></span>"
      ]
    },
    {
      "cell_type": "markdown",
      "id": "cbff3fae",
      "metadata": {
        "id": "cbff3fae"
      },
      "source": [
        "<center><span style=\"color:#0F3460;font-size:21px; font-weight: bold;\">\n"
      ]
    },
    {
      "cell_type": "markdown",
      "id": "e0a9c07f",
      "metadata": {
        "id": "e0a9c07f"
      },
      "source": [
        "<span style=\"color:#0F3460;font-size:21px; font-weight: bold;\">1.1 Importing libaries </span>"
      ]
    },
    {
      "cell_type": "code",
      "execution_count": 1,
      "id": "b007f790",
      "metadata": {
        "id": "b007f790"
      },
      "outputs": [],
      "source": [
        "import matplotlib.pyplot as plt\n",
        "import seaborn as sns\n",
        "import pandas as pd\n",
        "import plotly.express as px\n",
        "from plotly.subplots import make_subplots\n",
        "import plotly.graph_objects as go\n",
        "import numpy as np"
      ]
    },
    {
      "cell_type": "markdown",
      "id": "c9c5f444",
      "metadata": {
        "id": "c9c5f444"
      },
      "source": [
        "<hr>"
      ]
    },
    {
      "cell_type": "markdown",
      "id": "474bf4e9",
      "metadata": {
        "id": "474bf4e9"
      },
      "source": [
        "  <center><span style=\"color:#0F3460;font-size:30px; font-weight: bold;\">Part 1</span> </center> <br>\n",
        "  \n",
        "  <center><span style=\"color:#0F3460;font-size:23px; font-weight: bold;\">Data Preprocessing</span>  </center>"
      ]
    },
    {
      "cell_type": "markdown",
      "id": "2c2191c2",
      "metadata": {
        "id": "2c2191c2"
      },
      "source": [
        " <span style=\"color:#0F3460;font-size:19px; font-weight: bold;\">1.2 Importing My Data From *csv* File</span>"
      ]
    },
    {
      "cell_type": "code",
      "execution_count": 2,
      "id": "yzsUfV7jvXOE",
      "metadata": {
        "id": "yzsUfV7jvXOE"
      },
      "outputs": [],
      "source": [
        "epm = pd.read_csv(\"predictive-maintenance-dataset.csv\")"
      ]
    },
    {
      "cell_type": "markdown",
      "id": "b21f6f95",
      "metadata": {
        "id": "b21f6f95"
      },
      "source": [
        " <span style=\"color:#0F3460;font-size:19px; font-weight: bold;\">1.3 Top 5 Rows</span>"
      ]
    },
    {
      "cell_type": "code",
      "execution_count": 3,
      "id": "a735a4e4",
      "metadata": {
        "colab": {
          "base_uri": "https://localhost:8080/",
          "height": 206
        },
        "id": "a735a4e4",
        "outputId": "a47e2140-5b1a-4872-fafb-4914dd68492d"
      },
      "outputs": [
        {
          "data": {
            "text/html": [
              "<div>\n",
              "<style scoped>\n",
              "    .dataframe tbody tr th:only-of-type {\n",
              "        vertical-align: middle;\n",
              "    }\n",
              "\n",
              "    .dataframe tbody tr th {\n",
              "        vertical-align: top;\n",
              "    }\n",
              "\n",
              "    .dataframe thead th {\n",
              "        text-align: right;\n",
              "    }\n",
              "</style>\n",
              "<table border=\"1\" class=\"dataframe\">\n",
              "  <thead>\n",
              "    <tr style=\"text-align: right;\">\n",
              "      <th></th>\n",
              "      <th>ID</th>\n",
              "      <th>revolutions</th>\n",
              "      <th>humidity</th>\n",
              "      <th>vibration</th>\n",
              "    </tr>\n",
              "  </thead>\n",
              "  <tbody>\n",
              "    <tr>\n",
              "      <th>0</th>\n",
              "      <td>1</td>\n",
              "      <td>93.744</td>\n",
              "      <td>73.999</td>\n",
              "      <td>18.0</td>\n",
              "    </tr>\n",
              "    <tr>\n",
              "      <th>1</th>\n",
              "      <td>1</td>\n",
              "      <td>93.740</td>\n",
              "      <td>73.999</td>\n",
              "      <td>18.0</td>\n",
              "    </tr>\n",
              "    <tr>\n",
              "      <th>2</th>\n",
              "      <td>1</td>\n",
              "      <td>93.736</td>\n",
              "      <td>73.998</td>\n",
              "      <td>18.0</td>\n",
              "    </tr>\n",
              "    <tr>\n",
              "      <th>3</th>\n",
              "      <td>1</td>\n",
              "      <td>93.732</td>\n",
              "      <td>73.998</td>\n",
              "      <td>18.0</td>\n",
              "    </tr>\n",
              "    <tr>\n",
              "      <th>4</th>\n",
              "      <td>1</td>\n",
              "      <td>93.729</td>\n",
              "      <td>73.998</td>\n",
              "      <td>18.0</td>\n",
              "    </tr>\n",
              "  </tbody>\n",
              "</table>\n",
              "</div>"
            ],
            "text/plain": [
              "   ID  revolutions  humidity  vibration\n",
              "0   1       93.744    73.999       18.0\n",
              "1   1       93.740    73.999       18.0\n",
              "2   1       93.736    73.998       18.0\n",
              "3   1       93.732    73.998       18.0\n",
              "4   1       93.729    73.998       18.0"
            ]
          },
          "execution_count": 3,
          "metadata": {},
          "output_type": "execute_result"
        }
      ],
      "source": [
        "epm.head()"
      ]
    },
    {
      "cell_type": "markdown",
      "id": "116675cf",
      "metadata": {
        "id": "116675cf"
      },
      "source": [
        "- ID: Used for tracking and managing records.\n",
        "- Revolutions: Key feature for assessing wear and predicting when maintenance is needed based on usage.\n",
        "- Humidity: Helps in understanding environmental factors affecting machinery performance.\n",
        "- Vibration: Critical for early detection of mechanical issues, allowing for preventive actions.\n",
        "- x1 to x5: Enhance the model by providing additional context and potentially capturing complex interactions affecting machinery health.\n",
        "\n"
      ]
    },
    {
      "cell_type": "markdown",
      "id": "0e732921",
      "metadata": {
        "id": "0e732921"
      },
      "source": [
        " <span style=\"color:#0F3460;font-size:19px; font-weight: bold;\">1.4 Info</span>"
      ]
    },
    {
      "cell_type": "code",
      "execution_count": 4,
      "id": "6e5edd41",
      "metadata": {
        "colab": {
          "base_uri": "https://localhost:8080/"
        },
        "id": "6e5edd41",
        "outputId": "2fa4861c-ad02-47d5-9bb0-566b864eaaad"
      },
      "outputs": [
        {
          "name": "stdout",
          "output_type": "stream",
          "text": [
            "<class 'pandas.core.frame.DataFrame'>\n",
            "RangeIndex: 112001 entries, 0 to 112000\n",
            "Data columns (total 4 columns):\n",
            " #   Column       Non-Null Count   Dtype  \n",
            "---  ------       --------------   -----  \n",
            " 0   ID           112001 non-null  int64  \n",
            " 1   revolutions  112001 non-null  float64\n",
            " 2   humidity     112001 non-null  float64\n",
            " 3   vibration    109563 non-null  float64\n",
            "dtypes: float64(3), int64(1)\n",
            "memory usage: 3.4 MB\n"
          ]
        }
      ],
      "source": [
        "epm.info()"
      ]
    },
    {
      "cell_type": "markdown",
      "id": "220d70d2",
      "metadata": {
        "id": "220d70d2"
      },
      "source": [
        " <span style=\"color:#0F3460;font-size:19px; font-weight: bold;\">1.5 Cleaning</span>"
      ]
    },
    {
      "cell_type": "code",
      "execution_count": 5,
      "id": "4841ae2c",
      "metadata": {
        "colab": {
          "base_uri": "https://localhost:8080/"
        },
        "id": "4841ae2c",
        "outputId": "b8d752c6-2da4-4ba7-c049-00ab61ca69e4"
      },
      "outputs": [
        {
          "data": {
            "text/plain": [
              "ID                0\n",
              "revolutions       0\n",
              "humidity          0\n",
              "vibration      2438\n",
              "dtype: int64"
            ]
          },
          "execution_count": 5,
          "metadata": {},
          "output_type": "execute_result"
        }
      ],
      "source": [
        "epm_clean = epm.isnull().sum()\n",
        "epm_clean"
      ]
    },
    {
      "cell_type": "code",
      "execution_count": 6,
      "id": "906aba60",
      "metadata": {
        "colab": {
          "base_uri": "https://localhost:8080/"
        },
        "id": "906aba60",
        "outputId": "e0503a9f-78c6-41c0-e110-db5ac1859c43"
      },
      "outputs": [
        {
          "data": {
            "text/plain": [
              "ID             0\n",
              "revolutions    0\n",
              "humidity       0\n",
              "vibration      0\n",
              "dtype: int64"
            ]
          },
          "execution_count": 6,
          "metadata": {},
          "output_type": "execute_result"
        }
      ],
      "source": [
        "epm_clean = epm.dropna()\n",
        "epm_clean.isnull().sum()"
      ]
    },
    {
      "cell_type": "markdown",
      "id": "02230541",
      "metadata": {},
      "source": [
        "<hr>"
      ]
    },
    {
      "cell_type": "markdown",
      "id": "6a5fc8a8",
      "metadata": {
        "id": "6a5fc8a8"
      },
      "source": [
        " <span style=\"color:#0F3460;font-size:19px; font-weight: bold;\">1.6 Statistical Summary </span>\n"
      ]
    },
    {
      "cell_type": "code",
      "execution_count": 7,
      "id": "c56e5154",
      "metadata": {},
      "outputs": [
        {
          "data": {
            "text/html": [
              "<div>\n",
              "<style scoped>\n",
              "    .dataframe tbody tr th:only-of-type {\n",
              "        vertical-align: middle;\n",
              "    }\n",
              "\n",
              "    .dataframe tbody tr th {\n",
              "        vertical-align: top;\n",
              "    }\n",
              "\n",
              "    .dataframe thead th {\n",
              "        text-align: right;\n",
              "    }\n",
              "</style>\n",
              "<table border=\"1\" class=\"dataframe\">\n",
              "  <thead>\n",
              "    <tr style=\"text-align: right;\">\n",
              "      <th></th>\n",
              "      <th>ID</th>\n",
              "      <th>revolutions</th>\n",
              "      <th>humidity</th>\n",
              "      <th>vibration</th>\n",
              "    </tr>\n",
              "  </thead>\n",
              "  <tbody>\n",
              "    <tr>\n",
              "      <th>count</th>\n",
              "      <td>109563.000000</td>\n",
              "      <td>109563.000000</td>\n",
              "      <td>109563.000000</td>\n",
              "      <td>109563.000000</td>\n",
              "    </tr>\n",
              "    <tr>\n",
              "      <th>mean</th>\n",
              "      <td>934.745169</td>\n",
              "      <td>46.250013</td>\n",
              "      <td>74.216124</td>\n",
              "      <td>28.340276</td>\n",
              "    </tr>\n",
              "    <tr>\n",
              "      <th>std</th>\n",
              "      <td>541.556004</td>\n",
              "      <td>19.130226</td>\n",
              "      <td>0.686551</td>\n",
              "      <td>24.292500</td>\n",
              "    </tr>\n",
              "    <tr>\n",
              "      <th>min</th>\n",
              "      <td>1.000000</td>\n",
              "      <td>16.933000</td>\n",
              "      <td>72.399000</td>\n",
              "      <td>2.000000</td>\n",
              "    </tr>\n",
              "    <tr>\n",
              "      <th>25%</th>\n",
              "      <td>468.000000</td>\n",
              "      <td>28.818000</td>\n",
              "      <td>73.908000</td>\n",
              "      <td>8.000000</td>\n",
              "    </tr>\n",
              "    <tr>\n",
              "      <th>50%</th>\n",
              "      <td>936.000000</td>\n",
              "      <td>43.295000</td>\n",
              "      <td>74.207000</td>\n",
              "      <td>21.280000</td>\n",
              "    </tr>\n",
              "    <tr>\n",
              "      <th>75%</th>\n",
              "      <td>1407.000000</td>\n",
              "      <td>64.000000</td>\n",
              "      <td>74.717000</td>\n",
              "      <td>39.210000</td>\n",
              "    </tr>\n",
              "    <tr>\n",
              "      <th>max</th>\n",
              "      <td>1867.000000</td>\n",
              "      <td>93.744000</td>\n",
              "      <td>75.400000</td>\n",
              "      <td>100.000000</td>\n",
              "    </tr>\n",
              "  </tbody>\n",
              "</table>\n",
              "</div>"
            ],
            "text/plain": [
              "                  ID    revolutions       humidity      vibration\n",
              "count  109563.000000  109563.000000  109563.000000  109563.000000\n",
              "mean      934.745169      46.250013      74.216124      28.340276\n",
              "std       541.556004      19.130226       0.686551      24.292500\n",
              "min         1.000000      16.933000      72.399000       2.000000\n",
              "25%       468.000000      28.818000      73.908000       8.000000\n",
              "50%       936.000000      43.295000      74.207000      21.280000\n",
              "75%      1407.000000      64.000000      74.717000      39.210000\n",
              "max      1867.000000      93.744000      75.400000     100.000000"
            ]
          },
          "execution_count": 7,
          "metadata": {},
          "output_type": "execute_result"
        }
      ],
      "source": [
        "epm_clean.describe()"
      ]
    },
    {
      "cell_type": "code",
      "execution_count": 8,
      "id": "d00b06e4",
      "metadata": {},
      "outputs": [
        {
          "data": {
            "image/png": "[encoded data removed]",
            "text/plain": [
              "<Figure size 640x480 with 1 Axes>"
            ]
          },
          "metadata": {},
          "output_type": "display_data"
        }
      ],
      "source": [
        "revolutions = epm_clean['revolutions']\n",
        "plt.hist(revolutions)\n",
        "plt.show()"
      ]
    },
    {
      "cell_type": "code",
      "execution_count": 9,
      "id": "729ec530",
      "metadata": {},
      "outputs": [
        {
          "data": {
            "image/png": "[encoded data removed]",
            "text/plain": [
              "<Figure size 640x480 with 1 Axes>"
            ]
          },
          "metadata": {},
          "output_type": "display_data"
        }
      ],
      "source": [
        "humidity = epm_clean['humidity']\n",
        "plt.hist(humidity)\n",
        "plt.show()"
      ]
    },
    {
      "cell_type": "code",
      "execution_count": 10,
      "id": "c515191f",
      "metadata": {},
      "outputs": [
        {
          "data": {
            "image/png": "[encoded data removed]",
            "text/plain": [
              "<Figure size 640x480 with 1 Axes>"
            ]
          },
          "metadata": {},
          "output_type": "display_data"
        }
      ],
      "source": [
        "vibration = epm_clean['vibration']\n",
        "plt.hist(vibration)\n",
        "plt.show()"
      ]
    },
    {
      "cell_type": "markdown",
      "id": "7a9e2071",
      "metadata": {},
      "source": [
        " <span style=\"color:#0F3460;font-size:19px; font-weight: bold;\">1.7 Relationships between Features</span>\n"
      ]
    },
    {
      "cell_type": "code",
      "execution_count": 11,
      "id": "b2f24d7c",
      "metadata": {
        "colab": {
          "base_uri": "https://localhost:8080/",
          "height": 749
        },
        "id": "b2f24d7c",
        "outputId": "2e4bba52-7ffe-472b-bc73-aa7fcc592d8c"
      },
      "outputs": [
        {
          "data": {
            "image/png": "[encoded data removed]",
            "text/plain": [
              "<Figure size 1000x800 with 2 Axes>"
            ]
          },
          "metadata": {},
          "output_type": "display_data"
        }
      ],
      "source": [
        "import pandas as pd\n",
        "import matplotlib.pyplot as plt\n",
        "import seaborn as sns\n",
        "\n",
        "# Load your dataset\n",
        "# emp = pd.read_csv('path_to_your_dataset.csv')\n",
        "\n",
        "# Calculate the correlation matrix\n",
        "corr = epm_clean.corr()\n",
        "\n",
        "# Create a heatmap\n",
        "plt.figure(figsize=(10, 8))  # Adjusts the size of the plot\n",
        "sns.heatmap(corr, annot=True, fmt=\".2f\", cmap='coolwarm', cbar=True, square=True)\n",
        "\n",
        "# Customizing the plot\n",
        "plt.title('Heatmap of Feature Correlations')\n",
        "plt.xticks(rotation=45)  # Rotates the x-axis labels for better readability\n",
        "plt.yticks(rotation=45)  # Rotates the y-axis labels for better readability\n",
        "\n",
        "# Display the plot\n",
        "plt.show()"
      ]
    },
    {
      "cell_type": "markdown",
      "id": "0d2a937b",
      "metadata": {},
      "source": [
        "X5 and humidity \n",
        "X4, x3, x2, x1 and revolution \n",
        "\n",
        "Non of the sensors work good with vibration"
      ]
    },
    {
      "cell_type": "code",
      "execution_count": 12,
      "id": "23530e89",
      "metadata": {},
      "outputs": [
        {
          "name": "stdout",
          "output_type": "stream",
          "text": [
            "Shape of Train dataset:  (112001, 4)\n",
            "   ID  revolutions  humidity  vibration\n",
            "0   1       93.744    73.999       18.0\n",
            "1   1       93.740    73.999       18.0\n",
            "2   1       93.736    73.998       18.0\n",
            "3   1       93.732    73.998       18.0\n",
            "4   1       93.729    73.998       18.0\n"
          ]
        }
      ],
      "source": [
        "import pandas as pd\n",
        "\n",
        "# Read the training data\n",
        "train_df = pd.read_csv('predictive-maintenance-dataset.csv', delimiter=',', header=0)\n",
        "\n",
        "# Print the shape and first few rows\n",
        "print('Shape of Train dataset: ', train_df.shape)\n",
        "print(train_df.head())\n"
      ]
    },
    {
      "cell_type": "code",
      "execution_count": 13,
      "id": "da8bb527",
      "metadata": {},
      "outputs": [
        {
          "name": "stdout",
          "output_type": "stream",
          "text": [
            "Index(['ID', 'revolutions', 'humidity', 'vibration'], dtype='object')\n"
          ]
        }
      ],
      "source": [
        "print(train_df.columns)  # Print column indices"
      ]
    },
    {
      "cell_type": "code",
      "execution_count": 14,
      "id": "b4960888",
      "metadata": {},
      "outputs": [
        {
          "name": "stdout",
          "output_type": "stream",
          "text": [
            "   ID  revolutions  humidity  vibration\n",
            "0   1       93.744    73.999       18.0\n",
            "1   1       93.740    73.999       18.0\n",
            "2   1       93.736    73.998       18.0\n",
            "3   1       93.732    73.998       18.0\n",
            "4   1       93.729    73.998       18.0\n"
          ]
        }
      ],
      "source": [
        "print(train_df.head())"
      ]
    },
    {
      "cell_type": "code",
      "execution_count": 15,
      "id": "16f27dd1",
      "metadata": {},
      "outputs": [
        {
          "name": "stdout",
          "output_type": "stream",
          "text": [
            "Initial shape of Train dataset:  (112001, 4)\n",
            "Number of columns: 4\n",
            "Columns of the DataFrame: Index(['ID', 'revolutions', 'humidity', 'vibration'], dtype='object')\n"
          ]
        }
      ],
      "source": [
        "import pandas as pd\n",
        "\n",
        "\n",
        "# Step 3: Print the shape of the DataFrame to understand its dimensions\n",
        "print('Initial shape of Train dataset: ', train_df.shape)\n",
        "\n",
        "# Step 4: Check the actual number of columns\n",
        "num_columns = train_df.shape[1]\n",
        "print(f\"Number of columns: {num_columns}\")\n",
        "\n",
        "# Step 5: Define column names (ensure the count matches the number of columns)\n",
        "col_names = ['ID', 'revolutions', 'humidity', 'vibration']\n",
        "\n",
        "# Ensure the number of column names matches the number of columns in the DataFrame\n",
        "if len(col_names) == num_columns:\n",
        "    # Assign column names\n",
        "    train_df.columns = col_names\n",
        "else:\n",
        "    print(\"Error: The number of column names does not match the number of columns in the DataFrame\")\n",
        "    print(f\"Expected {num_columns} column names but got {len(col_names)}.\")\n",
        "\n",
        "# Print the columns to verify\n",
        "print(\"Columns of the DataFrame:\", train_df.columns)\n",
        "\n",
        "# Print the shape and head of the Data\n"
      ]
    },
    {
      "cell_type": "code",
      "execution_count": 16,
      "id": "d5c57205",
      "metadata": {},
      "outputs": [
        {
          "name": "stdout",
          "output_type": "stream",
          "text": [
            "(112001, 4)\n",
            "   ID  revolutions  humidity  vibration\n",
            "0   1       93.744    73.999       18.0\n",
            "1   1       93.740    73.999       18.0\n",
            "2   1       93.736    73.998       18.0\n",
            "3   1       93.732    73.998       18.0\n",
            "4   1       93.729    73.998       18.0\n",
            "Index(['ID', 'revolutions', 'humidity', 'vibration'], dtype='object')\n"
          ]
        }
      ],
      "source": [
        "# Read the test data\n",
        "test_df = pd.read_csv(\"predictive-maintenance-dataset.csv\")\n",
        "\n",
        "# Inspect the test DataFrame\n",
        "print(test_df.shape) \n",
        "print(test_df.head()) \n",
        "print(test_df.columns)  \n"
      ]
    },
    {
      "cell_type": "code",
      "execution_count": 17,
      "id": "ba07cf3c",
      "metadata": {},
      "outputs": [
        {
          "name": "stdout",
          "output_type": "stream",
          "text": [
            "   ID  humidity  vibration\n",
            "0   1    73.999       18.0\n",
            "1   1    73.999       18.0\n",
            "2   1    73.998       18.0\n",
            "3   1    73.998       18.0\n",
            "4   1    73.998       18.0\n"
          ]
        }
      ],
      "source": [
        "import pandas as pd\n",
        "\n",
        "# Step 1: Read the CSV file with the correct delimiter (comma in this case)\n",
        "truth_df = pd.read_csv('predictive-maintenance-dataset.csv', delimiter=',', header=0)\n",
        "truth_df.drop(truth_df.columns[[1]], axis=1, inplace=True)\n",
        "print(truth_df.head())\n"
      ]
    },
    {
      "cell_type": "code",
      "execution_count": 18,
      "id": "67df41d7",
      "metadata": {},
      "outputs": [
        {
          "data": {
            "text/plain": [
              "<bound method DataFrame.sort_values of           ID  revolutions  humidity  vibration\n",
              "0          1       93.744    73.999      18.00\n",
              "1          1       93.740    73.999      18.00\n",
              "2          1       93.736    73.998      18.00\n",
              "3          1       93.732    73.998      18.00\n",
              "4          1       93.729    73.998      18.00\n",
              "...      ...          ...       ...        ...\n",
              "111996  1867       20.186    73.992       2.00\n",
              "111997  1867       20.186    73.992      20.01\n",
              "111998  1867       20.185    73.992      20.01\n",
              "111999  1867       20.185    73.992      20.00\n",
              "112000  1867       20.184    73.992       2.00\n",
              "\n",
              "[112001 rows x 4 columns]>"
            ]
          },
          "execution_count": 18,
          "metadata": {},
          "output_type": "execute_result"
        }
      ],
      "source": [
        "train_df.sort_values"
      ]
    },
    {
      "cell_type": "code",
      "execution_count": 19,
      "id": "5f6b54a7",
      "metadata": {},
      "outputs": [
        {
          "data": {
            "text/html": [
              "<div>\n",
              "<style scoped>\n",
              "    .dataframe tbody tr th:only-of-type {\n",
              "        vertical-align: middle;\n",
              "    }\n",
              "\n",
              "    .dataframe tbody tr th {\n",
              "        vertical-align: top;\n",
              "    }\n",
              "\n",
              "    .dataframe thead th {\n",
              "        text-align: right;\n",
              "    }\n",
              "</style>\n",
              "<table border=\"1\" class=\"dataframe\">\n",
              "  <thead>\n",
              "    <tr style=\"text-align: right;\">\n",
              "      <th></th>\n",
              "      <th>ID</th>\n",
              "      <th>revolutions</th>\n",
              "      <th>humidity</th>\n",
              "      <th>vibration</th>\n",
              "    </tr>\n",
              "  </thead>\n",
              "  <tbody>\n",
              "    <tr>\n",
              "      <th>58</th>\n",
              "      <td>1</td>\n",
              "      <td>93.520</td>\n",
              "      <td>73.980</td>\n",
              "      <td>18.06</td>\n",
              "    </tr>\n",
              "    <tr>\n",
              "      <th>57</th>\n",
              "      <td>1</td>\n",
              "      <td>93.524</td>\n",
              "      <td>73.980</td>\n",
              "      <td>18.06</td>\n",
              "    </tr>\n",
              "    <tr>\n",
              "      <th>56</th>\n",
              "      <td>1</td>\n",
              "      <td>93.528</td>\n",
              "      <td>73.981</td>\n",
              "      <td>18.06</td>\n",
              "    </tr>\n",
              "    <tr>\n",
              "      <th>55</th>\n",
              "      <td>1</td>\n",
              "      <td>93.532</td>\n",
              "      <td>73.981</td>\n",
              "      <td>18.06</td>\n",
              "    </tr>\n",
              "    <tr>\n",
              "      <th>54</th>\n",
              "      <td>1</td>\n",
              "      <td>93.536</td>\n",
              "      <td>73.981</td>\n",
              "      <td>18.05</td>\n",
              "    </tr>\n",
              "  </tbody>\n",
              "</table>\n",
              "</div>"
            ],
            "text/plain": [
              "    ID  revolutions  humidity  vibration\n",
              "58   1       93.520    73.980      18.06\n",
              "57   1       93.524    73.980      18.06\n",
              "56   1       93.528    73.981      18.06\n",
              "55   1       93.532    73.981      18.06\n",
              "54   1       93.536    73.981      18.05"
            ]
          },
          "execution_count": 19,
          "metadata": {},
          "output_type": "execute_result"
        }
      ],
      "source": [
        "# sort based on id and cycle\n",
        "train_df = train_df.sort_values(['ID','revolutions'])\n",
        "train_df.head()"
      ]
    },
    {
      "cell_type": "code",
      "execution_count": 20,
      "id": "7590e2ad",
      "metadata": {},
      "outputs": [],
      "source": [
        "model_path = 'my_model.keras'"
      ]
    },
    {
      "cell_type": "markdown",
      "id": "a20ffa8d",
      "metadata": {},
      "source": [
        "<span style=\"color:#0F3460;font-size:19px; font-weight: bold;\">Data Preprocessing </span>"
      ]
    },
    {
      "cell_type": "code",
      "execution_count": 21,
      "id": "e204bb10",
      "metadata": {},
      "outputs": [
        {
          "name": "stdout",
          "output_type": "stream",
          "text": [
            "   ID  revolutions  humidity  vibration  vibration_norm   RUL  label1  label2\n",
            "0   1     1.000000  0.533156       18.0            0.18  0.06       1       2\n",
            "1   1     0.999948  0.533156       18.0            0.18  0.06       1       2\n",
            "2   1     0.999896  0.532822       18.0            0.18  0.06       1       2\n",
            "3   1     0.999844  0.532822       18.0            0.18  0.06       1       2\n",
            "4   1     0.999805  0.532822       18.0            0.18  0.06       1       2\n"
          ]
        }
      ],
      "source": [
        "from sklearn import preprocessing\n",
        "# TRAIN\n",
        "#######\n",
        "# Data Labeling - generate column RUL(Remaining Usefull Life or Time to Failure)\n",
        "rul = pd.DataFrame(train_df.groupby('ID')['vibration'].max()).reset_index()\n",
        "rul.columns = ['ID', 'max']\n",
        "train_df = train_df.merge(rul, on=['ID'], how='left')\n",
        "train_df['RUL'] = train_df['max'] - train_df['vibration']\n",
        "train_df.drop('max', axis=1, inplace=True)\n",
        "# generate label columns for training data\n",
        "# we will only make use of \"label1\" for binary classification,\n",
        "# while trying to answer the question: is a specific engine going to fail within w1 revolutionss?\n",
        "w1 = 30\n",
        "w0 = 15\n",
        "train_df['label1'] = np.where(train_df['RUL'] <= w1, 1, 0 )\n",
        "train_df['label2'] = train_df['label1']\n",
        "train_df.loc[train_df['RUL'] <= w0, 'label2'] = 2\n",
        "\n",
        "# MinMax normalization (from 0 to 1)\n",
        "train_df['vibration_norm'] = train_df['vibration']\n",
        "# Define columns to normalize, excluding 'ID', 'RUL', 'label1', 'label2'\n",
        "cols_normalize = train_df.columns.difference(['ID','vibration','RUL','label1','label2'])\n",
        "min_max_scaler = preprocessing.MinMaxScaler()\n",
        "# Fill NaNs\n",
        "train_df = train_df.fillna(0)\n",
        "\n",
        "norm_train_df = pd.DataFrame(min_max_scaler.fit_transform(train_df[cols_normalize]),\n",
        "                             columns=cols_normalize,\n",
        "                             index=train_df.index)\n",
        "join_df = train_df[train_df.columns.difference(cols_normalize)].join(norm_train_df)\n",
        "train_df = join_df.reindex(columns = train_df.columns)\n",
        "\n",
        "\n",
        "# TEST\n",
        "######\n",
        "# MinMax normalization (from 0 to 1)\n",
        "test_df['vibration_norm'] = test_df['vibration']\n",
        "norm_test_df = pd.DataFrame(min_max_scaler.transform(test_df[cols_normalize]),\n",
        "                            columns=cols_normalize,\n",
        "                            index=test_df.index)\n",
        "test_join_df = test_df[test_df.columns.difference(cols_normalize)].join(norm_test_df)\n",
        "test_df = test_join_df.reindex(columns = test_df.columns)\n",
        "test_df = test_df.reset_index(drop=True)\n",
        "test_df.head()\n",
        "\n",
        "# Generate column max for test data\n",
        "rul = pd.DataFrame(test_df.groupby('ID')['vibration'].max()).reset_index()\n",
        "rul.columns = ['ID', 'max']\n",
        "\n",
        "# Merge 'rul' with 'test_df'\n",
        "test_df = test_df.merge(rul, on='ID', how='left')\n",
        "\n",
        "# Calculate the RUL\n",
        "test_df['RUL'] = test_df['max'] - test_df['vibration']\n",
        "test_df.drop('max', axis=1, inplace=True)\n",
        "\n",
        "# Generate label columns w0 and w1 for test data\n",
        "test_df['label1'] = np.where(test_df['RUL'] <= w1, 1, 0)\n",
        "test_df['label2'] = test_df['label1']\n",
        "test_df.loc[test_df['RUL'] <= w0, 'label2'] = 2\n",
        "\n",
        "# Reset index if needed\n",
        "test_df = test_df.reset_index(drop=True)\n",
        "\n",
        "# Fill NaNs\n",
        "test_df = test_df.fillna(0)\n",
        "\n",
        "# Print the first few rows of the updated test_df\n",
        "print(test_df.head())"
      ]
    },
    {
      "cell_type": "markdown",
      "id": "812c7742",
      "metadata": {},
      "source": [
        " <span style=\"color:#0F3460;font-size:19px; font-weight: bold;\">1.10 Function to reshape dataset as required by LSTM</span>"
      ]
    },
    {
      "cell_type": "code",
      "execution_count": 22,
      "id": "03f11319",
      "metadata": {},
      "outputs": [],
      "source": [
        "# function to reshape features into (samples, time steps, features)\n",
        "def gen_sequence(id_df, seq_length, seq_cols):\n",
        "    # for one id I put all the rows in a single matrix\n",
        "    data_matrix = id_df[seq_cols].values\n",
        "    num_elements = data_matrix.shape[0]\n",
        "    for start, stop in zip(range(0, num_elements-seq_length), range(seq_length, num_elements)):\n",
        "        yield data_matrix[start:stop, :]"
      ]
    },
    {
      "cell_type": "code",
      "execution_count": 23,
      "id": "dd89dcd9",
      "metadata": {},
      "outputs": [
        {
          "data": {
            "text/plain": [
              "(18659, 50, 3)"
            ]
          },
          "execution_count": 23,
          "metadata": {},
          "output_type": "execute_result"
        }
      ],
      "source": [
        "# Define sequence length and columns to use\n",
        "feature_columns = ['revolutions', 'humidity', 'vibration']\n",
        "sequence_length = 50\n",
        "\n",
        "# Filter IDs with enough data\n",
        "valid_ids = [id for id in train_df['ID'].unique() if len(train_df[train_df['ID'] == id]) >= sequence_length]\n",
        "\n",
        "# Generator for the sequences\n",
        "seq_gen = (gen_sequence(train_df[train_df['ID'] == id], sequence_length, feature_columns) for id in valid_ids)\n",
        "\n",
        "# Generate sequences and convert to numpy array\n",
        "all_sequences = []\n",
        "for sequences in seq_gen:\n",
        "    all_sequences.extend(sequences)\n",
        "\n",
        "seq_array = np.array(all_sequences, dtype=np.float32)\n",
        "seq_array.shape"
      ]
    },
    {
      "cell_type": "code",
      "execution_count": 24,
      "id": "8242bafc",
      "metadata": {},
      "outputs": [],
      "source": [
        "# function to generate labels\n",
        "def gen_labels(id_df, seq_length, label):\n",
        "    data_array = id_df[label].values\n",
        "    num_elements = data_array.shape[0]\n",
        "    return data_array[seq_length:num_elements, :]"
      ]
    },
    {
      "cell_type": "code",
      "execution_count": 25,
      "id": "8f2def92",
      "metadata": {},
      "outputs": [
        {
          "data": {
            "text/plain": [
              "(18659, 1)"
            ]
          },
          "execution_count": 25,
          "metadata": {},
          "output_type": "execute_result"
        }
      ],
      "source": [
        "# generate labels\n",
        "label_gen = [gen_labels(train_df[train_df['ID']==id], sequence_length, ['label1'])\n",
        "             for id in train_df['ID'].unique()]\n",
        "label_array = np.concatenate(label_gen).astype(np.float32)\n",
        "label_array.shape"
      ]
    },
    {
      "cell_type": "code",
      "execution_count": 26,
      "id": "cc841266",
      "metadata": {},
      "outputs": [
        {
          "name": "stderr",
          "output_type": "stream",
          "text": [
            "/usr/local/python/3.10.13/lib/python3.10/site-packages/keras/src/layers/rnn/rnn.py:204: UserWarning: Do not pass an `input_shape`/`input_dim` argument to a layer. When using Sequential models, prefer using an `Input(shape)` object as the first layer in the model instead.\n",
            "  super().__init__(**kwargs)\n"
          ]
        },
        {
          "data": {
            "text/html": [
              "<pre style=\"white-space:pre;overflow-x:auto;line-height:normal;font-family:Menlo,'DejaVu Sans Mono',consolas,'Courier New',monospace\"><span style=\"font-weight: bold\">Model: \"sequential\"</span>\n",
              "</pre>\n"
            ],
            "text/plain": [
              "\u001b[1mModel: \"sequential\"\u001b[0m\n"
            ]
          },
          "metadata": {},
          "output_type": "display_data"
        },
        {
          "data": {
            "text/html": [
              "<pre style=\"white-space:pre;overflow-x:auto;line-height:normal;font-family:Menlo,'DejaVu Sans Mono',consolas,'Courier New',monospace\">┏━━━━━━━━━━━━━━━━━━━━━━━━━━━━━━━━━┳━━━━━━━━━━━━━━━━━━━━━━━━┳━━━━━━━━━━━━━━━┓\n",
              "┃<span style=\"font-weight: bold\"> Layer (type)                    </span>┃<span style=\"font-weight: bold\"> Output Shape           </span>┃<span style=\"font-weight: bold\">       Param # </span>┃\n",
              "┡━━━━━━━━━━━━━━━━━━━━━━━━━━━━━━━━━╇━━━━━━━━━━━━━━━━━━━━━━━━╇━━━━━━━━━━━━━━━┩\n",
              "│ lstm (<span style=\"color: #0087ff; text-decoration-color: #0087ff\">LSTM</span>)                     │ (<span style=\"color: #00d7ff; text-decoration-color: #00d7ff\">None</span>, <span style=\"color: #00af00; text-decoration-color: #00af00\">50</span>, <span style=\"color: #00af00; text-decoration-color: #00af00\">64</span>)         │        <span style=\"color: #00af00; text-decoration-color: #00af00\">17,408</span> │\n",
              "├─────────────────────────────────┼────────────────────────┼───────────────┤\n",
              "│ dropout (<span style=\"color: #0087ff; text-decoration-color: #0087ff\">Dropout</span>)               │ (<span style=\"color: #00d7ff; text-decoration-color: #00d7ff\">None</span>, <span style=\"color: #00af00; text-decoration-color: #00af00\">50</span>, <span style=\"color: #00af00; text-decoration-color: #00af00\">64</span>)         │             <span style=\"color: #00af00; text-decoration-color: #00af00\">0</span> │\n",
              "├─────────────────────────────────┼────────────────────────┼───────────────┤\n",
              "│ lstm_1 (<span style=\"color: #0087ff; text-decoration-color: #0087ff\">LSTM</span>)                   │ (<span style=\"color: #00d7ff; text-decoration-color: #00d7ff\">None</span>, <span style=\"color: #00af00; text-decoration-color: #00af00\">32</span>)             │        <span style=\"color: #00af00; text-decoration-color: #00af00\">12,416</span> │\n",
              "├─────────────────────────────────┼────────────────────────┼───────────────┤\n",
              "│ dropout_1 (<span style=\"color: #0087ff; text-decoration-color: #0087ff\">Dropout</span>)             │ (<span style=\"color: #00d7ff; text-decoration-color: #00d7ff\">None</span>, <span style=\"color: #00af00; text-decoration-color: #00af00\">32</span>)             │             <span style=\"color: #00af00; text-decoration-color: #00af00\">0</span> │\n",
              "├─────────────────────────────────┼────────────────────────┼───────────────┤\n",
              "│ dense (<span style=\"color: #0087ff; text-decoration-color: #0087ff\">Dense</span>)                   │ (<span style=\"color: #00d7ff; text-decoration-color: #00d7ff\">None</span>, <span style=\"color: #00af00; text-decoration-color: #00af00\">1</span>)              │            <span style=\"color: #00af00; text-decoration-color: #00af00\">33</span> │\n",
              "└─────────────────────────────────┴────────────────────────┴───────────────┘\n",
              "</pre>\n"
            ],
            "text/plain": [
              "┏━━━━━━━━━━━━━━━━━━━━━━━━━━━━━━━━━┳━━━━━━━━━━━━━━━━━━━━━━━━┳━━━━━━━━━━━━━━━┓\n",
              "┃\u001b[1m \u001b[0m\u001b[1mLayer (type)                   \u001b[0m\u001b[1m \u001b[0m┃\u001b[1m \u001b[0m\u001b[1mOutput Shape          \u001b[0m\u001b[1m \u001b[0m┃\u001b[1m \u001b[0m\u001b[1m      Param #\u001b[0m\u001b[1m \u001b[0m┃\n",
              "┡━━━━━━━━━━━━━━━━━━━━━━━━━━━━━━━━━╇━━━━━━━━━━━━━━━━━━━━━━━━╇━━━━━━━━━━━━━━━┩\n",
              "│ lstm (\u001b[38;5;33mLSTM\u001b[0m)                     │ (\u001b[38;5;45mNone\u001b[0m, \u001b[38;5;34m50\u001b[0m, \u001b[38;5;34m64\u001b[0m)         │        \u001b[38;5;34m17,408\u001b[0m │\n",
              "├─────────────────────────────────┼────────────────────────┼───────────────┤\n",
              "│ dropout (\u001b[38;5;33mDropout\u001b[0m)               │ (\u001b[38;5;45mNone\u001b[0m, \u001b[38;5;34m50\u001b[0m, \u001b[38;5;34m64\u001b[0m)         │             \u001b[38;5;34m0\u001b[0m │\n",
              "├─────────────────────────────────┼────────────────────────┼───────────────┤\n",
              "│ lstm_1 (\u001b[38;5;33mLSTM\u001b[0m)                   │ (\u001b[38;5;45mNone\u001b[0m, \u001b[38;5;34m32\u001b[0m)             │        \u001b[38;5;34m12,416\u001b[0m │\n",
              "├─────────────────────────────────┼────────────────────────┼───────────────┤\n",
              "│ dropout_1 (\u001b[38;5;33mDropout\u001b[0m)             │ (\u001b[38;5;45mNone\u001b[0m, \u001b[38;5;34m32\u001b[0m)             │             \u001b[38;5;34m0\u001b[0m │\n",
              "├─────────────────────────────────┼────────────────────────┼───────────────┤\n",
              "│ dense (\u001b[38;5;33mDense\u001b[0m)                   │ (\u001b[38;5;45mNone\u001b[0m, \u001b[38;5;34m1\u001b[0m)              │            \u001b[38;5;34m33\u001b[0m │\n",
              "└─────────────────────────────────┴────────────────────────┴───────────────┘\n"
            ]
          },
          "metadata": {},
          "output_type": "display_data"
        },
        {
          "data": {
            "text/html": [
              "<pre style=\"white-space:pre;overflow-x:auto;line-height:normal;font-family:Menlo,'DejaVu Sans Mono',consolas,'Courier New',monospace\"><span style=\"font-weight: bold\"> Total params: </span><span style=\"color: #00af00; text-decoration-color: #00af00\">29,857</span> (116.63 KB)\n",
              "</pre>\n"
            ],
            "text/plain": [
              "\u001b[1m Total params: \u001b[0m\u001b[38;5;34m29,857\u001b[0m (116.63 KB)\n"
            ]
          },
          "metadata": {},
          "output_type": "display_data"
        },
        {
          "data": {
            "text/html": [
              "<pre style=\"white-space:pre;overflow-x:auto;line-height:normal;font-family:Menlo,'DejaVu Sans Mono',consolas,'Courier New',monospace\"><span style=\"font-weight: bold\"> Trainable params: </span><span style=\"color: #00af00; text-decoration-color: #00af00\">29,857</span> (116.63 KB)\n",
              "</pre>\n"
            ],
            "text/plain": [
              "\u001b[1m Trainable params: \u001b[0m\u001b[38;5;34m29,857\u001b[0m (116.63 KB)\n"
            ]
          },
          "metadata": {},
          "output_type": "display_data"
        },
        {
          "data": {
            "text/html": [
              "<pre style=\"white-space:pre;overflow-x:auto;line-height:normal;font-family:Menlo,'DejaVu Sans Mono',consolas,'Courier New',monospace\"><span style=\"font-weight: bold\"> Non-trainable params: </span><span style=\"color: #00af00; text-decoration-color: #00af00\">0</span> (0.00 B)\n",
              "</pre>\n"
            ],
            "text/plain": [
              "\u001b[1m Non-trainable params: \u001b[0m\u001b[38;5;34m0\u001b[0m (0.00 B)\n"
            ]
          },
          "metadata": {},
          "output_type": "display_data"
        },
        {
          "name": "stdout",
          "output_type": "stream",
          "text": [
            "None\n",
            "Epoch 1/10\n",
            "\u001b[1m84/84\u001b[0m \u001b[32m━━━━━━━━━━━━━━━━━━━━\u001b[0m\u001b[37m\u001b[0m \u001b[1m9s\u001b[0m 79ms/step - accuracy: 0.7913 - loss: 1.2024 - val_accuracy: 0.7069 - val_loss: 0.8798\n",
            "Epoch 2/10\n",
            "\u001b[1m84/84\u001b[0m \u001b[32m━━━━━━━━━━━━━━━━━━━━\u001b[0m\u001b[37m\u001b[0m \u001b[1m10s\u001b[0m 75ms/step - accuracy: 0.8261 - loss: 0.5678 - val_accuracy: 0.7111 - val_loss: 0.6125\n",
            "Epoch 3/10\n",
            "\u001b[1m84/84\u001b[0m \u001b[32m━━━━━━━━━━━━━━━━━━━━\u001b[0m\u001b[37m\u001b[0m \u001b[1m10s\u001b[0m 75ms/step - accuracy: 0.8676 - loss: 0.3900 - val_accuracy: 0.7792 - val_loss: 0.4649\n",
            "Epoch 4/10\n",
            "\u001b[1m84/84\u001b[0m \u001b[32m━━━━━━━━━━━━━━━━━━━━\u001b[0m\u001b[37m\u001b[0m \u001b[1m10s\u001b[0m 78ms/step - accuracy: 0.9101 - loss: 0.3018 - val_accuracy: 0.8794 - val_loss: 0.3236\n",
            "Epoch 5/10\n",
            "\u001b[1m84/84\u001b[0m \u001b[32m━━━━━━━━━━━━━━━━━━━━\u001b[0m\u001b[37m\u001b[0m \u001b[1m10s\u001b[0m 76ms/step - accuracy: 0.9355 - loss: 0.2465 - val_accuracy: 0.9094 - val_loss: 0.3018\n",
            "Epoch 6/10\n",
            "\u001b[1m84/84\u001b[0m \u001b[32m━━━━━━━━━━━━━━━━━━━━\u001b[0m\u001b[37m\u001b[0m \u001b[1m10s\u001b[0m 75ms/step - accuracy: 0.9416 - loss: 0.2186 - val_accuracy: 0.9185 - val_loss: 0.2913\n",
            "Epoch 7/10\n",
            "\u001b[1m84/84\u001b[0m \u001b[32m━━━━━━━━━━━━━━━━━━━━\u001b[0m\u001b[37m\u001b[0m \u001b[1m10s\u001b[0m 76ms/step - accuracy: 0.9529 - loss: 0.1887 - val_accuracy: 0.9014 - val_loss: 0.3095\n",
            "Epoch 8/10\n",
            "\u001b[1m84/84\u001b[0m \u001b[32m━━━━━━━━━━━━━━━━━━━━\u001b[0m\u001b[37m\u001b[0m \u001b[1m10s\u001b[0m 76ms/step - accuracy: 0.9567 - loss: 0.1691 - val_accuracy: 0.9089 - val_loss: 0.2958\n",
            "Epoch 9/10\n",
            "\u001b[1m84/84\u001b[0m \u001b[32m━━━━━━━━━━━━━━━━━━━━\u001b[0m\u001b[37m\u001b[0m \u001b[1m10s\u001b[0m 76ms/step - accuracy: 0.9585 - loss: 0.1601 - val_accuracy: 0.9126 - val_loss: 0.2874\n",
            "Epoch 10/10\n",
            "\u001b[1m84/84\u001b[0m \u001b[32m━━━━━━━━━━━━━━━━━━━━\u001b[0m\u001b[37m\u001b[0m \u001b[1m6s\u001b[0m 76ms/step - accuracy: 0.9552 - loss: 0.1610 - val_accuracy: 0.9277 - val_loss: 0.2470\n"
          ]
        }
      ],
      "source": [
        "import tensorflow as tf\n",
        "from tensorflow.keras.models import Sequential\n",
        "from tensorflow.keras.layers import LSTM, Dense, Dropout\n",
        "from tensorflow.keras import regularizers\n",
        "from tensorflow.keras.callbacks import EarlyStopping\n",
        "import numpy as np\n",
        "\n",
        "# Feature weights\n",
        "nb_features = seq_array.shape[2]\n",
        "nb_out = label_array.shape[1]\n",
        "\n",
        "\n",
        "model = Sequential()  # Define the model\n",
        "# First LSTM layer\n",
        "model.add(LSTM(units=64, input_shape=(sequence_length, nb_features), \n",
        "    return_sequences=True,\n",
        "    kernel_regularizer=regularizers.l2(0.01)\n",
        "))\n",
        "\n",
        "model.add(Dropout(0.3))\n",
        "\n",
        "# Second LSTM layer\n",
        "model.add(LSTM(\n",
        "    units=32,  # Adjust the number of units as needed\n",
        "    return_sequences=False,\n",
        "    kernel_regularizer=regularizers.l2(0.01) \n",
        "))\n",
        "model.add(Dropout(0.3))\n",
        "\n",
        "\n",
        "# Dense sigmoid layer\n",
        "model.add(Dense(units=nb_out, activation='sigmoid'))\n",
        "\n",
        "# With adam optimizer and a binary crossentropy loss. We will optimize for model accuracy.\n",
        "model.compile(loss='binary_crossentropy', optimizer='adam', metrics=['accuracy'])\n",
        "\n",
        "# Verify the architecture\n",
        "print(model.summary())\n",
        "\n",
        "early_stopping = EarlyStopping(monitor='val_loss', patience=5, restore_best_weights=True)\n",
        "\n",
        "history = model.fit(\n",
        "    seq_array, \n",
        "    label_array,\n",
        "    epochs=10,\n",
        "    batch_size=200,\n",
        "    validation_split=0.1,\n",
        "    verbose=1,\n",
        "    callbacks=[early_stopping]\n",
        ")\n"
      ]
    },
    {
      "cell_type": "markdown",
      "id": "a2716b0a",
      "metadata": {},
      "source": [
        "<hr>"
      ]
    },
    {
      "cell_type": "markdown",
      "id": "7893e06d",
      "metadata": {},
      "source": [
        "<span style=\"color:#0F3460;font-size:19px; font-weight: bold;\">Results</span>"
      ]
    },
    {
      "cell_type": "code",
      "execution_count": 27,
      "id": "21d7c401",
      "metadata": {},
      "outputs": [
        {
          "data": {
            "image/png": "[encoded data removed]",
            "text/plain": [
              "<Figure size 500x500 with 1 Axes>"
            ]
          },
          "metadata": {},
          "output_type": "display_data"
        }
      ],
      "source": [
        "fig_acc = plt.figure(figsize=(5, 5))\n",
        "plt.plot(history.history['accuracy'])\n",
        "plt.plot(history.history['val_accuracy'])\n",
        "plt.title('model accuracy')\n",
        "plt.ylabel('accuracy')\n",
        "plt.xlabel('epoch')\n",
        "plt.legend(['train', 'test'], loc='upper left')\n",
        "plt.show()"
      ]
    },
    {
      "cell_type": "code",
      "execution_count": 28,
      "id": "21d7c401",
      "metadata": {},
      "outputs": [
        {
          "data": {
            "image/png": "[encoded data removed]",
            "text/plain": [
              "<Figure size 500x500 with 1 Axes>"
            ]
          },
          "metadata": {},
          "output_type": "display_data"
        }
      ],
      "source": [
        "fig_acc = plt.figure(figsize=(5, 5))\n",
        "plt.plot(history.history['loss'])\n",
        "plt.plot(history.history['val_loss'])\n",
        "plt.title('model loss')\n",
        "plt.ylabel('loss')\n",
        "plt.xlabel('epoch')\n",
        "plt.legend(['train', 'test'], loc='upper left')\n",
        "plt.show()"
      ]
    },
    {
      "cell_type": "markdown",
      "id": "ab1b83e7",
      "metadata": {},
      "source": [
        " <span style=\"color:#0F3460;font-size:19px; font-weight: bold;\">Model Evaluation on Validation set</span>"
      ]
    },
    {
      "cell_type": "code",
      "execution_count": 29,
      "id": "87745495",
      "metadata": {},
      "outputs": [
        {
          "name": "stdout",
          "output_type": "stream",
          "text": [
            "(1866, 50, 3)\n",
            "(1866, 1)\n",
            "59/59 - 1s - 20ms/step - accuracy: 0.4984 - loss: 6.8382\n",
            "Accurracy: 0.4983922839164734\n",
            "\u001b[1m59/59\u001b[0m \u001b[32m━━━━━━━━━━━━━━━━━━━━\u001b[0m\u001b[37m\u001b[0m \u001b[1m1s\u001b[0m 13ms/step\n",
            "Confusion matrix\n",
            "- x-axis is true labels.\n",
            "- y-axis is predicted labels\n",
            "[[  2 347]\n",
            " [589 928]]\n",
            "Precision:  0.7278431372549019 \n",
            " Recall:  0.6117336849044166 \n",
            " F1-score: 0.664756446991404\n"
          ]
        },
        {
          "data": {
            "image/png": "[encoded data removed]",
            "text/plain": [
              "<Figure size 1000x500 with 1 Axes>"
            ]
          },
          "metadata": {},
          "output_type": "display_data"
        }
      ],
      "source": [
        "import os\n",
        "from tensorflow.keras.models import load_model\n",
        "from sklearn.metrics import confusion_matrix, precision_score, recall_score\n",
        "\n",
        "# We pick the last sequence for each ID in the test data\n",
        "\n",
        "seq_array_test_last = [test_df[test_df['ID']==ID][feature_columns].values[-sequence_length:]\n",
        "                       for ID in test_df['ID'].unique() if len(test_df[test_df['ID']==ID]) >= sequence_length]\n",
        "\n",
        "seq_array_test_last = np.asarray(seq_array_test_last).astype(np.float32)\n",
        "# print(\"seq_array_test_last\")\n",
        "# print(seq_array_test_last)\n",
        "print(seq_array_test_last.shape)\n",
        "\n",
        "# Similarly, we pick the labels\n",
        "\n",
        "#print(\"y_mask\")\n",
        "# serve per prendere solo le label delle sequenze che sono almeno lunghe 50\n",
        "y_mask = [len(test_df[test_df['ID']==ID]) >= sequence_length for ID in test_df['ID'].unique()]\n",
        "#print(\"y_mask\")\n",
        "#print(y_mask)\n",
        "label_array_test_last = test_df.groupby('ID')['label1'].nth(-1)[y_mask].values\n",
        "label_array_test_last = label_array_test_last.reshape(label_array_test_last.shape[0],1).astype(np.float32)\n",
        "print(label_array_test_last.shape)\n",
        "#print(\"label_array_test_last\")\n",
        "#print(label_array_test_last)\n",
        "\n",
        "# Load the model\n",
        "\n",
        "if os.path.isfile(model_path):\n",
        "    estimator = load_model(model_path)\n",
        "    # Recompile the model\n",
        "    estimator.compile(loss='binary_crossentropy', optimizer='adam', metrics=['accuracy'])\n",
        "\n",
        "# Ensure the shapes are compatible\n",
        "assert seq_array_test_last.shape[0] == label_array_test_last.shape[0]\n",
        "\n",
        "# test metrics\n",
        "scores_test = estimator.evaluate(seq_array_test_last, label_array_test_last, verbose=2)\n",
        "print('Accurracy: {}'.format(scores_test[1]))\n",
        "\n",
        "# make predictions and compute confusion matrix\n",
        "y_pred_prob = estimator.predict(seq_array_test_last)\n",
        "y_pred_test = (y_pred_prob > 0.5).astype(\"int32\")\n",
        "y_true_test = label_array_test_last.astype(\"int32\")\n",
        "\n",
        "# Check shapes and types\n",
        "assert y_true_test.shape == y_pred_test.shape\n",
        "test_set = pd.DataFrame(y_pred_test)\n",
        "test_set.to_csv('binary_submit_test.csv', index = None)\n",
        "\n",
        "print('Confusion matrix\\n- x-axis is true labels.\\n- y-axis is predicted labels')\n",
        "cm = confusion_matrix(y_true_test, y_pred_test)\n",
        "print(cm)\n",
        "\n",
        "# compute precision and recall\n",
        "precision_test = precision_score(y_true_test, y_pred_test)\n",
        "recall_test = recall_score(y_true_test, y_pred_test)\n",
        "f1_test = 2 * (precision_test * recall_test) / (precision_test + recall_test)\n",
        "print( 'Precision: ', precision_test, '\\n', 'Recall: ', recall_test,'\\n', 'F1-score:', f1_test )\n",
        "\n",
        "# Plot in blue color the predicted data and in green color the\n",
        "# actual data to verify visually the accuracy of the model.\n",
        "fig_verify = plt.figure(figsize=(10, 5))\n",
        "plt.plot(y_pred_test, color=\"blue\")\n",
        "plt.plot(y_true_test, color=\"green\")\n",
        "plt.title('prediction')\n",
        "plt.ylabel('value')\n",
        "plt.xlabel('row')\n",
        "plt.legend(['predicted', 'actual data'], loc='upper left')\n",
        "plt.show()\n",
        "fig_verify.savefig(\"model_verify.png\")"
      ]
    },
    {
      "cell_type": "markdown",
      "id": "ee4d9c96",
      "metadata": {},
      "source": [
        "<center><span style=\"color:#0F3460;font-size:23px; font-weight: bold;\">Regression</span>  </center></br>\n",
        " <center>How many more cycles an in-service engine will last before it fails?</center>"
      ]
    },
    {
      "cell_type": "code",
      "execution_count": 30,
      "id": "8f884318",
      "metadata": {},
      "outputs": [],
      "source": [
        "import tensorflow as tf\n",
        "from tensorflow.keras.layers import Activation, Dense, Dropout, LSTM\n",
        "from tensorflow.keras.models import Sequential, load_model\n",
        "\n",
        "\n",
        "import pandas as pd\n",
        "import numpy as np\n",
        "import matplotlib.pyplot as plt\n",
        "import os\n",
        "from sklearn import preprocessing\n",
        "\n",
        "# Setting seed for reproducibility\n",
        "np.random.seed(1234)\n",
        "PYTHONHASHSEED = 0\n",
        "\n",
        "# define path to save model\n",
        "model_path = 'regression_model.keras'"
      ]
    },
    {
      "cell_type": "markdown",
      "id": "e1ec6e0b",
      "metadata": {},
      "source": [
        " <span style=\"color:#0F3460;font-size:19px; font-weight: bold;\">Data Preprocessing</span>\n"
      ]
    },
    {
      "cell_type": "code",
      "execution_count": 31,
      "id": "eb23a804",
      "metadata": {},
      "outputs": [
        {
          "data": {
            "text/plain": [
              "(18659, 1)"
            ]
          },
          "execution_count": 31,
          "metadata": {},
          "output_type": "execute_result"
        }
      ],
      "source": [
        "# generate labels\n",
        "label_gen = [gen_labels(train_df[train_df['ID']==id], sequence_length, ['RUL'])\n",
        "             for id in train_df['ID'].unique()]\n",
        "\n",
        "label_array = np.concatenate(label_gen).astype(np.float32)\n",
        "label_array.shape"
      ]
    },
    {
      "cell_type": "markdown",
      "id": "8d8bb104",
      "metadata": {},
      "source": [
        " <span style=\"color:#0F3460;font-size:19px; font-weight: bold;\">LSTM</span>"
      ]
    },
    {
      "cell_type": "code",
      "execution_count": 32,
      "id": "67b4fb3f",
      "metadata": {},
      "outputs": [
        {
          "name": "stderr",
          "output_type": "stream",
          "text": [
            "/usr/local/python/3.10.13/lib/python3.10/site-packages/keras/src/layers/rnn/rnn.py:204: UserWarning: Do not pass an `input_shape`/`input_dim` argument to a layer. When using Sequential models, prefer using an `Input(shape)` object as the first layer in the model instead.\n",
            "  super().__init__(**kwargs)\n"
          ]
        },
        {
          "data": {
            "text/html": [
              "<pre style=\"white-space:pre;overflow-x:auto;line-height:normal;font-family:Menlo,'DejaVu Sans Mono',consolas,'Courier New',monospace\"><span style=\"font-weight: bold\">Model: \"sequential_1\"</span>\n",
              "</pre>\n"
            ],
            "text/plain": [
              "\u001b[1mModel: \"sequential_1\"\u001b[0m\n"
            ]
          },
          "metadata": {},
          "output_type": "display_data"
        },
        {
          "data": {
            "text/html": [
              "<pre style=\"white-space:pre;overflow-x:auto;line-height:normal;font-family:Menlo,'DejaVu Sans Mono',consolas,'Courier New',monospace\">┏━━━━━━━━━━━━━━━━━━━━━━━━━━━━━━━━━┳━━━━━━━━━━━━━━━━━━━━━━━━┳━━━━━━━━━━━━━━━┓\n",
              "┃<span style=\"font-weight: bold\"> Layer (type)                    </span>┃<span style=\"font-weight: bold\"> Output Shape           </span>┃<span style=\"font-weight: bold\">       Param # </span>┃\n",
              "┡━━━━━━━━━━━━━━━━━━━━━━━━━━━━━━━━━╇━━━━━━━━━━━━━━━━━━━━━━━━╇━━━━━━━━━━━━━━━┩\n",
              "│ lstm_2 (<span style=\"color: #0087ff; text-decoration-color: #0087ff\">LSTM</span>)                   │ (<span style=\"color: #00d7ff; text-decoration-color: #00d7ff\">None</span>, <span style=\"color: #00af00; text-decoration-color: #00af00\">50</span>, <span style=\"color: #00af00; text-decoration-color: #00af00\">100</span>)        │        <span style=\"color: #00af00; text-decoration-color: #00af00\">41,600</span> │\n",
              "├─────────────────────────────────┼────────────────────────┼───────────────┤\n",
              "│ dropout_2 (<span style=\"color: #0087ff; text-decoration-color: #0087ff\">Dropout</span>)             │ (<span style=\"color: #00d7ff; text-decoration-color: #00d7ff\">None</span>, <span style=\"color: #00af00; text-decoration-color: #00af00\">50</span>, <span style=\"color: #00af00; text-decoration-color: #00af00\">100</span>)        │             <span style=\"color: #00af00; text-decoration-color: #00af00\">0</span> │\n",
              "├─────────────────────────────────┼────────────────────────┼───────────────┤\n",
              "│ lstm_3 (<span style=\"color: #0087ff; text-decoration-color: #0087ff\">LSTM</span>)                   │ (<span style=\"color: #00d7ff; text-decoration-color: #00d7ff\">None</span>, <span style=\"color: #00af00; text-decoration-color: #00af00\">50</span>)             │        <span style=\"color: #00af00; text-decoration-color: #00af00\">30,200</span> │\n",
              "├─────────────────────────────────┼────────────────────────┼───────────────┤\n",
              "│ dropout_3 (<span style=\"color: #0087ff; text-decoration-color: #0087ff\">Dropout</span>)             │ (<span style=\"color: #00d7ff; text-decoration-color: #00d7ff\">None</span>, <span style=\"color: #00af00; text-decoration-color: #00af00\">50</span>)             │             <span style=\"color: #00af00; text-decoration-color: #00af00\">0</span> │\n",
              "├─────────────────────────────────┼────────────────────────┼───────────────┤\n",
              "│ dense_1 (<span style=\"color: #0087ff; text-decoration-color: #0087ff\">Dense</span>)                 │ (<span style=\"color: #00d7ff; text-decoration-color: #00d7ff\">None</span>, <span style=\"color: #00af00; text-decoration-color: #00af00\">1</span>)              │            <span style=\"color: #00af00; text-decoration-color: #00af00\">51</span> │\n",
              "├─────────────────────────────────┼────────────────────────┼───────────────┤\n",
              "│ activation (<span style=\"color: #0087ff; text-decoration-color: #0087ff\">Activation</span>)         │ (<span style=\"color: #00d7ff; text-decoration-color: #00d7ff\">None</span>, <span style=\"color: #00af00; text-decoration-color: #00af00\">1</span>)              │             <span style=\"color: #00af00; text-decoration-color: #00af00\">0</span> │\n",
              "└─────────────────────────────────┴────────────────────────┴───────────────┘\n",
              "</pre>\n"
            ],
            "text/plain": [
              "┏━━━━━━━━━━━━━━━━━━━━━━━━━━━━━━━━━┳━━━━━━━━━━━━━━━━━━━━━━━━┳━━━━━━━━━━━━━━━┓\n",
              "┃\u001b[1m \u001b[0m\u001b[1mLayer (type)                   \u001b[0m\u001b[1m \u001b[0m┃\u001b[1m \u001b[0m\u001b[1mOutput Shape          \u001b[0m\u001b[1m \u001b[0m┃\u001b[1m \u001b[0m\u001b[1m      Param #\u001b[0m\u001b[1m \u001b[0m┃\n",
              "┡━━━━━━━━━━━━━━━━━━━━━━━━━━━━━━━━━╇━━━━━━━━━━━━━━━━━━━━━━━━╇━━━━━━━━━━━━━━━┩\n",
              "│ lstm_2 (\u001b[38;5;33mLSTM\u001b[0m)                   │ (\u001b[38;5;45mNone\u001b[0m, \u001b[38;5;34m50\u001b[0m, \u001b[38;5;34m100\u001b[0m)        │        \u001b[38;5;34m41,600\u001b[0m │\n",
              "├─────────────────────────────────┼────────────────────────┼───────────────┤\n",
              "│ dropout_2 (\u001b[38;5;33mDropout\u001b[0m)             │ (\u001b[38;5;45mNone\u001b[0m, \u001b[38;5;34m50\u001b[0m, \u001b[38;5;34m100\u001b[0m)        │             \u001b[38;5;34m0\u001b[0m │\n",
              "├─────────────────────────────────┼────────────────────────┼───────────────┤\n",
              "│ lstm_3 (\u001b[38;5;33mLSTM\u001b[0m)                   │ (\u001b[38;5;45mNone\u001b[0m, \u001b[38;5;34m50\u001b[0m)             │        \u001b[38;5;34m30,200\u001b[0m │\n",
              "├─────────────────────────────────┼────────────────────────┼───────────────┤\n",
              "│ dropout_3 (\u001b[38;5;33mDropout\u001b[0m)             │ (\u001b[38;5;45mNone\u001b[0m, \u001b[38;5;34m50\u001b[0m)             │             \u001b[38;5;34m0\u001b[0m │\n",
              "├─────────────────────────────────┼────────────────────────┼───────────────┤\n",
              "│ dense_1 (\u001b[38;5;33mDense\u001b[0m)                 │ (\u001b[38;5;45mNone\u001b[0m, \u001b[38;5;34m1\u001b[0m)              │            \u001b[38;5;34m51\u001b[0m │\n",
              "├─────────────────────────────────┼────────────────────────┼───────────────┤\n",
              "│ activation (\u001b[38;5;33mActivation\u001b[0m)         │ (\u001b[38;5;45mNone\u001b[0m, \u001b[38;5;34m1\u001b[0m)              │             \u001b[38;5;34m0\u001b[0m │\n",
              "└─────────────────────────────────┴────────────────────────┴───────────────┘\n"
            ]
          },
          "metadata": {},
          "output_type": "display_data"
        },
        {
          "data": {
            "text/html": [
              "<pre style=\"white-space:pre;overflow-x:auto;line-height:normal;font-family:Menlo,'DejaVu Sans Mono',consolas,'Courier New',monospace\"><span style=\"font-weight: bold\"> Total params: </span><span style=\"color: #00af00; text-decoration-color: #00af00\">71,851</span> (280.67 KB)\n",
              "</pre>\n"
            ],
            "text/plain": [
              "\u001b[1m Total params: \u001b[0m\u001b[38;5;34m71,851\u001b[0m (280.67 KB)\n"
            ]
          },
          "metadata": {},
          "output_type": "display_data"
        },
        {
          "data": {
            "text/html": [
              "<pre style=\"white-space:pre;overflow-x:auto;line-height:normal;font-family:Menlo,'DejaVu Sans Mono',consolas,'Courier New',monospace\"><span style=\"font-weight: bold\"> Trainable params: </span><span style=\"color: #00af00; text-decoration-color: #00af00\">71,851</span> (280.67 KB)\n",
              "</pre>\n"
            ],
            "text/plain": [
              "\u001b[1m Trainable params: \u001b[0m\u001b[38;5;34m71,851\u001b[0m (280.67 KB)\n"
            ]
          },
          "metadata": {},
          "output_type": "display_data"
        },
        {
          "data": {
            "text/html": [
              "<pre style=\"white-space:pre;overflow-x:auto;line-height:normal;font-family:Menlo,'DejaVu Sans Mono',consolas,'Courier New',monospace\"><span style=\"font-weight: bold\"> Non-trainable params: </span><span style=\"color: #00af00; text-decoration-color: #00af00\">0</span> (0.00 B)\n",
              "</pre>\n"
            ],
            "text/plain": [
              "\u001b[1m Non-trainable params: \u001b[0m\u001b[38;5;34m0\u001b[0m (0.00 B)\n"
            ]
          },
          "metadata": {},
          "output_type": "display_data"
        },
        {
          "name": "stdout",
          "output_type": "stream",
          "text": [
            "None\n",
            "Epoch 1/100\n",
            "89/89 - 12s - 138ms/step - loss: 597.7131 - mae: 15.2111 - val_loss: 118.1800 - val_mae: 8.4144\n",
            "Epoch 2/100\n",
            "89/89 - 10s - 115ms/step - loss: 522.2792 - mae: 14.5449 - val_loss: 125.7895 - val_mae: 10.2743\n",
            "Epoch 3/100\n",
            "89/89 - 20s - 229ms/step - loss: 489.8008 - mae: 14.6583 - val_loss: 113.1254 - val_mae: 6.2390\n",
            "Epoch 4/100\n",
            "89/89 - 10s - 115ms/step - loss: 479.8255 - mae: 14.8952 - val_loss: 101.0742 - val_mae: 7.0646\n",
            "Epoch 5/100\n",
            "89/89 - 20s - 229ms/step - loss: 442.7706 - mae: 13.8722 - val_loss: 92.8593 - val_mae: 7.3682\n",
            "Epoch 6/100\n",
            "89/89 - 10s - 114ms/step - loss: 389.1150 - mae: 12.4325 - val_loss: 94.2529 - val_mae: 8.3825\n",
            "Epoch 7/100\n",
            "89/89 - 10s - 116ms/step - loss: 324.6439 - mae: 10.6588 - val_loss: 109.0724 - val_mae: 7.8774\n",
            "Epoch 8/100\n",
            "89/89 - 20s - 229ms/step - loss: 274.4549 - mae: 9.4670 - val_loss: 76.1712 - val_mae: 6.1578\n",
            "Epoch 9/100\n",
            "89/89 - 10s - 114ms/step - loss: 238.1239 - mae: 8.7243 - val_loss: 98.4082 - val_mae: 6.6114\n",
            "Epoch 10/100\n",
            "89/89 - 10s - 115ms/step - loss: 208.6138 - mae: 8.0998 - val_loss: 115.9990 - val_mae: 7.1607\n",
            "Epoch 11/100\n",
            "89/89 - 10s - 116ms/step - loss: 187.4176 - mae: 7.5804 - val_loss: 99.1343 - val_mae: 6.6555\n",
            "Epoch 12/100\n",
            "89/89 - 20s - 230ms/step - loss: 168.9465 - mae: 7.0237 - val_loss: 92.6841 - val_mae: 6.7388\n",
            "Epoch 13/100\n",
            "89/89 - 10s - 115ms/step - loss: 155.2738 - mae: 6.6061 - val_loss: 89.2649 - val_mae: 6.5688\n",
            "Epoch 14/100\n",
            "89/89 - 20s - 228ms/step - loss: 144.2950 - mae: 6.2406 - val_loss: 91.0919 - val_mae: 6.3976\n",
            "Epoch 15/100\n",
            "89/89 - 10s - 115ms/step - loss: 136.9331 - mae: 6.0111 - val_loss: 96.7106 - val_mae: 6.7485\n",
            "Epoch 16/100\n",
            "89/89 - 10s - 114ms/step - loss: 128.4107 - mae: 5.7053 - val_loss: 90.7053 - val_mae: 6.4509\n",
            "Epoch 17/100\n",
            "89/89 - 10s - 115ms/step - loss: 120.6315 - mae: 5.4747 - val_loss: 105.8085 - val_mae: 7.3249\n",
            "Epoch 18/100\n",
            "89/89 - 10s - 116ms/step - loss: 119.0405 - mae: 5.3929 - val_loss: 91.1269 - val_mae: 6.6214\n",
            "dict_keys(['loss', 'mae', 'val_loss', 'val_mae'])\n"
          ]
        }
      ],
      "source": [
        "from tensorflow.keras.layers import LSTM, Dropout, Dense, Activation\n",
        "from tensorflow.keras import backend as K\n",
        "\n",
        "\n",
        "# Next, we build a deep network.\n",
        "# The first layer is an LSTM layer with 100 units followed by another LSTM layer with 50 units.\n",
        "# Dropout is also applied after each LSTM layer to control overfitting.\n",
        "# Final layer is a Dense output layer with single unit and linear activation since this is a regression problem.\n",
        "nb_features = seq_array.shape[2]\n",
        "nb_out = label_array.shape[1]\n",
        "\n",
        "model = Sequential()\n",
        "model.add(LSTM(\n",
        "         input_shape=(sequence_length, nb_features),\n",
        "         units=100,\n",
        "         return_sequences=True))\n",
        "model.add(Dropout(0.3))\n",
        "model.add(LSTM(\n",
        "          units=50,\n",
        "          return_sequences=False))\n",
        "model.add(Dropout(0.3))\n",
        "model.add(Dense(units=nb_out))\n",
        "model.add(Activation(\"linear\"))\n",
        "model.compile(loss='mean_squared_error', optimizer='rmsprop',metrics=['mae'])\n",
        "\n",
        "print(model.summary())\n",
        "\n",
        "\n",
        "# fit the network\n",
        "history = model.fit(seq_array, label_array, epochs=100, batch_size=200, validation_split=0.05, verbose=2,\n",
        "          callbacks = [tf.keras.callbacks.EarlyStopping(monitor='val_loss', min_delta=0, patience=10, verbose=0, mode='min'),\n",
        "                       tf.keras.callbacks.ModelCheckpoint(model_path,monitor='val_loss', save_best_only=True, mode='min', verbose=0)]\n",
        "          )\n",
        "\n",
        "# list all data in history\n",
        "print(history.history.keys())"
      ]
    },
    {
      "cell_type": "markdown",
      "id": "d036b6c4",
      "metadata": {},
      "source": [
        "<span style=\"color:#0F3460;font-size:19px; font-weight: bold;\">Model Evaluation on Test set</span>\n"
      ]
    },
    {
      "cell_type": "code",
      "execution_count": 33,
      "id": "73913a87",
      "metadata": {},
      "outputs": [
        {
          "data": {
            "image/png": "[encoded data removed]",
            "text/plain": [
              "<Figure size 500x500 with 1 Axes>"
            ]
          },
          "metadata": {},
          "output_type": "display_data"
        },
        {
          "data": {
            "image/png": "[encoded data removed]",
            "text/plain": [
              "<Figure size 500x500 with 1 Axes>"
            ]
          },
          "metadata": {},
          "output_type": "display_data"
        },
        {
          "name": "stdout",
          "output_type": "stream",
          "text": [
            "\u001b[1m94/94\u001b[0m \u001b[32m━━━━━━━━━━━━━━━━━━━━\u001b[0m\u001b[37m\u001b[0m \u001b[1m4s\u001b[0m 44ms/step - loss: 74.3773 - mae: 2.8855\n",
            "\n",
            "MAE: 4.512120246887207\n",
            "\u001b[1m94/94\u001b[0m \u001b[32m━━━━━━━━━━━━━━━━━━━━\u001b[0m\u001b[37m\u001b[0m \u001b[1m4s\u001b[0m 43ms/step\n"
          ]
        }
      ],
      "source": [
        "# summarize history for MAE\n",
        "fig_acc = plt.figure(figsize=(5, 5))\n",
        "plt.plot(history.history['mae'])\n",
        "plt.plot(history.history['val_mae'])\n",
        "plt.title('model MAE')\n",
        "plt.ylabel('MAE')\n",
        "plt.xlabel('epoch')\n",
        "plt.legend(['train', 'test'], loc='upper left')\n",
        "plt.show()\n",
        "fig_acc.savefig(\"model_mae.png\")\n",
        "\n",
        "# summarize history for Loss\n",
        "fig_acc = plt.figure(figsize=(5, 5))\n",
        "plt.plot(history.history['loss'])\n",
        "plt.plot(history.history['val_loss'])\n",
        "plt.title('model loss')\n",
        "plt.ylabel('loss')\n",
        "plt.xlabel('epoch')\n",
        "plt.legend(['train', 'test'], loc='upper left')\n",
        "plt.show()\n",
        "fig_acc.savefig(\"model_regression_loss.png\")\n",
        "\n",
        "# training metrics\n",
        "scores = model.evaluate(seq_array, label_array, verbose=1, batch_size=200)\n",
        "print('\\nMAE: {}'.format(scores[1]))\n",
        "\n",
        "y_pred = model.predict(seq_array,verbose=1, batch_size=200)\n",
        "y_true = label_array\n",
        "\n",
        "test_set = pd.DataFrame(y_pred)\n",
        "test_set.to_csv('submit_train.csv', index = None)"
      ]
    },
    {
      "cell_type": "markdown",
      "id": "c67a972a",
      "metadata": {},
      "source": [
        "<span style=\"color:#0F3460;font-size:19px; font-weight: bold;\">Evaluate on Validation set</span>"
      ]
    },
    {
      "cell_type": "code",
      "execution_count": 34,
      "id": "72f77629",
      "metadata": {},
      "outputs": [
        {
          "name": "stdout",
          "output_type": "stream",
          "text": [
            "59/59 - 1s - 17ms/step - loss: 366.5736 - mae: 11.5004\n",
            "\n",
            "MAE: 11.500405311584473\n",
            "\u001b[1m59/59\u001b[0m \u001b[32m━━━━━━━━━━━━━━━━━━━━\u001b[0m\u001b[37m\u001b[0m \u001b[1m1s\u001b[0m 9ms/step\n"
          ]
        },
        {
          "data": {
            "image/png": "[encoded data removed]",
            "text/plain": [
              "<Figure size 1000x500 with 1 Axes>"
            ]
          },
          "metadata": {},
          "output_type": "display_data"
        }
      ],
      "source": [
        "# We pick the last sequence for each id in the test data\n",
        "seq_array_test_last = [test_df[test_df['ID']==id][feature_columns].values[-sequence_length:]\n",
        "                       for id in test_df['ID'].unique() if len(test_df[test_df['ID']==id]) >= sequence_length]\n",
        "\n",
        "seq_array_test_last = np.asarray(seq_array_test_last).astype(np.float32)\n",
        "\n",
        "\n",
        "y_mask = [len(test_df[test_df['ID']==id]) >= sequence_length for id in test_df['ID'].unique()]\n",
        "label_array_test_last = test_df.groupby('ID')['RUL'].nth(-1)[y_mask].values\n",
        "label_array_test_last = label_array_test_last.reshape(label_array_test_last.shape[0],1).astype(np.float32)\n",
        "\n",
        "if os.path.isfile(model_path):\n",
        "    estimator = load_model(model_path)\n",
        "    \n",
        "    # Test metrics\n",
        "    scores_test = estimator.evaluate(seq_array_test_last, label_array_test_last, verbose=2)\n",
        "    print('\\nMAE: {}'.format(scores_test[1]))\n",
        "    # Make predictions\n",
        "    y_pred_test = model.predict(seq_array_test_last)\n",
        "    y_true_test = label_array_test_last\n",
        "    # Save predictions to CSV\n",
        "    test_set = pd.DataFrame(y_pred_test)\n",
        "    test_set.to_csv('submit_test.csv', index=None)\n",
        "    # Plot predictions vs. actual values\n",
        "    fig_verify = plt.figure(figsize=(10, 5))\n",
        "    plt.plot(y_pred_test, color=\"blue\", label=\"Predicted\")\n",
        "    plt.plot(y_true_test, color=\"green\", label=\"Actual\")\n",
        "    plt.title('Prediction vs Actual')\n",
        "    plt.ylabel('Value')\n",
        "    plt.xlabel('Row')\n",
        "    plt.legend(loc='upper left')\n",
        "    plt.show()\n",
        "    fig_verify.savefig(\"model_regression_verify.png\")"
      ]
    },
    {
      "cell_type": "markdown",
      "id": "18cad847",
      "metadata": {},
      "source": [
        "  <center><span style=\"color:#0F3460;font-size:30px; font-weight: bold;\">Part 4</span> </center> <br>\n",
        "  \n",
        "  <center><span style=\"color:#0F3460;font-size:23px; font-weight: bold;\">Prediction</span>  </center>"
      ]
    },
    {
      "cell_type": "markdown",
      "id": "61ed6bc7",
      "metadata": {},
      "source": [
        " <span style=\"color:#0F3460;font-size:19px; font-weight: bold;\">Prediction: Maintenance Needed</span>"
      ]
    },
    {
      "cell_type": "code",
      "execution_count": 35,
      "id": "8e6bb6fc",
      "metadata": {},
      "outputs": [
        {
          "name": "stdout",
          "output_type": "stream",
          "text": [
            "   revolutions  humidity  vibration  maintenance_needed\n",
            "0       93.744    73.999       18.0                   0\n",
            "1       93.740    73.999       18.0                   0\n",
            "2       93.736    73.998       18.0                   0\n",
            "3       93.732    73.998       18.0                   0\n",
            "4       93.729    73.998       18.0                   0\n"
          ]
        },
        {
          "name": "stderr",
          "output_type": "stream",
          "text": [
            "/tmp/ipykernel_40292/3476167417.py:9: SettingWithCopyWarning: \n",
            "A value is trying to be set on a copy of a slice from a DataFrame.\n",
            "Try using .loc[row_indexer,col_indexer] = value instead\n",
            "\n",
            "See the caveats in the documentation: https://pandas.pydata.org/pandas-docs/stable/user_guide/indexing.html#returning-a-view-versus-a-copy\n",
            "  epm_clean['maintenance_needed'] = ((epm_clean['revolutions'] > revolutions_threshold) |\n"
          ]
        }
      ],
      "source": [
        "import pandas as pd\n",
        "\n",
        "# Define thresholds for maintenance (example values, adjust based on your epm_clean)\n",
        "revolutions_threshold = 1000\n",
        "humidity_threshold = 75\n",
        "vibration_threshold = 50\n",
        "\n",
        "# Create the 'maintenance_needed' column based on the criteria\n",
        "epm_clean['maintenance_needed'] = ((epm_clean['revolutions'] > revolutions_threshold) |\n",
        "                              (epm_clean['humidity'] > humidity_threshold) |\n",
        "                              (epm_clean['vibration'] > vibration_threshold)).astype(int)\n",
        "\n",
        "# Check the new column\n",
        "print(epm_clean[['revolutions', 'humidity', 'vibration', 'maintenance_needed']].head())"
      ]
    },
    {
      "cell_type": "markdown",
      "id": "39e632db",
      "metadata": {},
      "source": [
        " <span style=\"color:#0F3460;font-size:19px; font-weight: bold;\">Prediction: Model Accuracy</span>"
      ]
    },
    {
      "cell_type": "code",
      "execution_count": 36,
      "id": "31238ba3",
      "metadata": {},
      "outputs": [
        {
          "name": "stdout",
          "output_type": "stream",
          "text": [
            "Accuracy: 1.0\n",
            "Precision: 1.0\n",
            "Recall: 1.0\n",
            "F1 Score: 1.0\n"
          ]
        }
      ],
      "source": [
        "from sklearn.model_selection import train_test_split\n",
        "from sklearn.tree import DecisionTreeClassifier\n",
        "from sklearn.metrics import accuracy_score, precision_score, recall_score, f1_score\n",
        "\n",
        "# Features and target variable\n",
        "X = epm_clean[['revolutions', 'humidity', 'vibration']]\n",
        "y = epm_clean['maintenance_needed']\n",
        "\n",
        "# Split the data\n",
        "X_train, X_test, y_train, y_test = train_test_split(X, y, test_size=0.2, random_state=42)\n",
        "\n",
        "# Train the model\n",
        "model = DecisionTreeClassifier()\n",
        "model.fit(X_train, y_train)\n",
        "\n",
        "# Make predictions\n",
        "y_pred = model.predict(X_test)\n",
        "\n",
        "# Evaluate the model\n",
        "accuracy = accuracy_score(y_test, y_pred)\n",
        "precision = precision_score(y_test, y_pred)\n",
        "recall = recall_score(y_test, y_pred)\n",
        "f1 = f1_score(y_test, y_pred)\n",
        "\n",
        "print(f'Accuracy: {accuracy}')\n",
        "print(f'Precision: {precision}')\n",
        "print(f'Recall: {recall}')\n",
        "print(f'F1 Score: {f1}')"
      ]
    },
    {
      "cell_type": "markdown",
      "id": "421ee076",
      "metadata": {},
      "source": [
        " <span style=\"color:#0F3460;font-size:19px; font-weight: bold;\">Prediction: Maintenance Needed EX Time - Training Model</span>"
      ]
    },
    {
      "cell_type": "code",
      "execution_count": 37,
      "id": "a1dcb2ba",
      "metadata": {},
      "outputs": [
        {
          "name": "stderr",
          "output_type": "stream",
          "text": [
            "/tmp/ipykernel_40292/3450261886.py:11: SettingWithCopyWarning: \n",
            "A value is trying to be set on a copy of a slice from a DataFrame.\n",
            "Try using .loc[row_indexer,col_indexer] = value instead\n",
            "\n",
            "See the caveats in the documentation: https://pandas.pydata.org/pandas-docs/stable/user_guide/indexing.html#returning-a-view-versus-a-copy\n",
            "  epm_clean['maintenance_date'] = [start_date + timedelta(days=np.random.randint(1, 365)) for _ in range(len(epm_clean))]\n",
            "/tmp/ipykernel_40292/3450261886.py:14: SettingWithCopyWarning: \n",
            "A value is trying to be set on a copy of a slice from a DataFrame.\n",
            "Try using .loc[row_indexer,col_indexer] = value instead\n",
            "\n",
            "See the caveats in the documentation: https://pandas.pydata.org/pandas-docs/stable/user_guide/indexing.html#returning-a-view-versus-a-copy\n",
            "  epm_clean['maintenance_date'] = pd.to_datetime(epm_clean['maintenance_date'])\n",
            "/tmp/ipykernel_40292/3450261886.py:18: SettingWithCopyWarning: \n",
            "A value is trying to be set on a copy of a slice from a DataFrame.\n",
            "Try using .loc[row_indexer,col_indexer] = value instead\n",
            "\n",
            "See the caveats in the documentation: https://pandas.pydata.org/pandas-docs/stable/user_guide/indexing.html#returning-a-view-versus-a-copy\n",
            "  epm_clean['days_until_maintenance'] = (epm_clean['maintenance_date'] - reference_date).dt.days\n",
            "/tmp/ipykernel_40292/3450261886.py:21: SettingWithCopyWarning: \n",
            "A value is trying to be set on a copy of a slice from a DataFrame\n",
            "\n",
            "See the caveats in the documentation: https://pandas.pydata.org/pandas-docs/stable/user_guide/indexing.html#returning-a-view-versus-a-copy\n",
            "  epm_clean.drop(columns=['maintenance_date'], inplace=True)\n"
          ]
        },
        {
          "name": "stdout",
          "output_type": "stream",
          "text": [
            "Mean Squared Error: 15131.16527122511\n",
            "[Timestamp('2025-01-02 00:00:00'), Timestamp('2024-10-31 00:00:00'), Timestamp('2025-02-04 00:00:00'), Timestamp('2024-11-19 00:00:00'), Timestamp('2025-03-20 00:00:00')]\n"
          ]
        }
      ],
      "source": [
        "import pandas as pd\n",
        "import numpy as np\n",
        "from datetime import datetime, timedelta\n",
        "\n",
        "# Example synthetic data for demonstration\n",
        "np.random.seed(42)\n",
        "\n",
        "# Load your dataset\n",
        "# Generate synthetic maintenance dates (e.g., maintenance every 30 days)\n",
        "start_date = datetime(2024, 7, 23)  # Example start date\n",
        "epm_clean['maintenance_date'] = [start_date + timedelta(days=np.random.randint(1, 365)) for _ in range(len(epm_clean))]\n",
        "\n",
        "# Convert maintenance_date to datetime format\n",
        "epm_clean['maintenance_date'] = pd.to_datetime(epm_clean['maintenance_date'])\n",
        "\n",
        "# Calculate days until maintenance based on a reference date\n",
        "reference_date = epm_clean['maintenance_date'].min()\n",
        "epm_clean['days_until_maintenance'] = (epm_clean['maintenance_date'] - reference_date).dt.days\n",
        "\n",
        "# Drop the maintenance_date column if no longer needed\n",
        "epm_clean.drop(columns=['maintenance_date'], inplace=True)\n",
        "\n",
        "# Prepare your features and target variable\n",
        "X = epm_clean[['revolutions', 'humidity', 'vibration']]\n",
        "y = epm_clean['days_until_maintenance']\n",
        "\n",
        "# Split the data\n",
        "from sklearn.model_selection import train_test_split\n",
        "X_train, X_test, y_train, y_test = train_test_split(X, y, test_size=0.2, random_state=42)\n",
        "\n",
        "# Initialize and train the model\n",
        "from sklearn.ensemble import RandomForestRegressor\n",
        "model = RandomForestRegressor()\n",
        "model.fit(X_train, y_train)\n",
        "\n",
        "# Make predictions\n",
        "y_pred = model.predict(X_test)\n",
        "\n",
        "# Evaluate the model\n",
        "from sklearn.metrics import mean_squared_error\n",
        "mse = mean_squared_error(y_test, y_pred)\n",
        "print(f'Mean Squared Error: {mse}')\n",
        "\n",
        "# Convert predicted days back to dates\n",
        "predicted_dates = [reference_date + timedelta(days=int(day)) for day in y_pred]\n",
        "print(predicted_dates[:5])  # Print first 5 predicted dates\n",
        "\n"
      ]
    },
    {
      "cell_type": "markdown",
      "id": "361c152c",
      "metadata": {},
      "source": [
        " <span style=\"color:#0F3460;font-size:19px; font-weight: bold;\">Prediction: Maintenance Needed EX Time - Actual, Predicted Days Until Maintenance, Predicted Maintenance Date </span>"
      ]
    },
    {
      "cell_type": "code",
      "execution_count": 38,
      "id": "cd6781af",
      "metadata": {},
      "outputs": [
        {
          "name": "stdout",
          "output_type": "stream",
          "text": [
            "   Actual Days Until Maintenance  ...  Predicted Maintenance Date\n",
            "0                            218  ...                  2025-01-02\n",
            "1                            343  ...                  2024-10-31\n",
            "2                            297  ...                  2025-02-04\n",
            "3                             85  ...                  2024-11-19\n",
            "4                            338  ...                  2025-03-20\n",
            "\n",
            "[5 rows x 3 columns]\n"
          ]
        }
      ],
      "source": [
        "# If you have actual maintenance dates for comparison\n",
        "# actual_dates = [reference_date + timedelta(days=int(day)) for day in y_test]\n",
        "\n",
        "# Display a sample of actual vs. predicted dates\n",
        "predicted_dates = [reference_date + timedelta(days=int(day)) for day in y_pred]\n",
        "\n",
        "# Create a DataFrame to compare actual and predicted dates\n",
        "results_df = pd.DataFrame({\n",
        "    'Actual Days Until Maintenance': y_test.values,\n",
        "    'Predicted Days Until Maintenance': y_pred,\n",
        "    'Predicted Maintenance Date': predicted_dates\n",
        "})\n",
        "\n",
        "# Display the first few rows of the results\n",
        "print(results_df.head())"
      ]
    },
    {
      "cell_type": "code",
      "execution_count": 39,
      "id": "07e4453b",
      "metadata": {},
      "outputs": [
        {
          "name": "stdout",
          "output_type": "stream",
          "text": [
            "          ID  revolutions  ...  humidity_smooth  vibration_smooth\n",
            "0          1       93.744  ...              NaN               NaN\n",
            "1          1       93.740  ...          73.9990            18.000\n",
            "2          1       93.736  ...          73.9985            18.000\n",
            "3          1       93.732  ...          73.9980            18.000\n",
            "4          1       93.729  ...          73.9980            18.000\n",
            "...      ...          ...  ...              ...               ...\n",
            "111996  1867       20.186  ...          73.9920            11.005\n",
            "111997  1867       20.186  ...          73.9920            11.005\n",
            "111998  1867       20.185  ...          73.9920            20.010\n",
            "111999  1867       20.185  ...          73.9920            20.005\n",
            "112000  1867       20.184  ...          73.9920            11.000\n",
            "\n",
            "[109563 rows x 9 columns]\n"
          ]
        },
        {
          "name": "stderr",
          "output_type": "stream",
          "text": [
            "/tmp/ipykernel_40292/3876983819.py:1: SettingWithCopyWarning: \n",
            "A value is trying to be set on a copy of a slice from a DataFrame.\n",
            "Try using .loc[row_indexer,col_indexer] = value instead\n",
            "\n",
            "See the caveats in the documentation: https://pandas.pydata.org/pandas-docs/stable/user_guide/indexing.html#returning-a-view-versus-a-copy\n",
            "  epm_clean['revolutions_smooth'] = epm_clean['revolutions'].rolling(window=2).mean()\n",
            "/tmp/ipykernel_40292/3876983819.py:2: SettingWithCopyWarning: \n",
            "A value is trying to be set on a copy of a slice from a DataFrame.\n",
            "Try using .loc[row_indexer,col_indexer] = value instead\n",
            "\n",
            "See the caveats in the documentation: https://pandas.pydata.org/pandas-docs/stable/user_guide/indexing.html#returning-a-view-versus-a-copy\n",
            "  epm_clean['humidity_smooth'] = epm_clean['humidity'].rolling(window=2).mean()\n",
            "/tmp/ipykernel_40292/3876983819.py:3: SettingWithCopyWarning: \n",
            "A value is trying to be set on a copy of a slice from a DataFrame.\n",
            "Try using .loc[row_indexer,col_indexer] = value instead\n",
            "\n",
            "See the caveats in the documentation: https://pandas.pydata.org/pandas-docs/stable/user_guide/indexing.html#returning-a-view-versus-a-copy\n",
            "  epm_clean['vibration_smooth'] = epm_clean['vibration'].rolling(window=2).mean()\n"
          ]
        }
      ],
      "source": [
        "epm_clean['revolutions_smooth'] = epm_clean['revolutions'].rolling(window=2).mean()\n",
        "epm_clean['humidity_smooth'] = epm_clean['humidity'].rolling(window=2).mean()\n",
        "epm_clean['vibration_smooth'] = epm_clean['vibration'].rolling(window=2).mean()\n",
        "\n",
        "print(epm_clean)"
      ]
    },
    {
      "cell_type": "code",
      "execution_count": 40,
      "id": "22fb1173",
      "metadata": {},
      "outputs": [
        {
          "name": "stdout",
          "output_type": "stream",
          "text": [
            "         ID  ...  Predicted Maintenance Date\n",
            "99312  1656  ...                  2025-01-02\n",
            "95655  1595  ...                  2024-10-31\n",
            "13235   221  ...                  2025-02-04\n",
            "6059    102  ...                  2024-11-19\n",
            "35291   589  ...                  2025-03-20\n",
            "\n",
            "[5 rows x 6 columns]\n"
          ]
        }
      ],
      "source": [
        "\n",
        "# Add the predicted maintenance dates to the original DataFrame\n",
        "predicted_dates = [reference_date + timedelta(days=int(day)) for day in y_pred]\n",
        "\n",
        "# Add predictions to the DataFrame\n",
        "results_df = pd.DataFrame({\n",
        "    'ID': epm_clean.loc[X_test.index, 'ID'],\n",
        "    'Revolutions': X_test['revolutions'].values,\n",
        "    'Humidity': X_test['humidity'].values,\n",
        "    'Vibration': X_test['vibration'].values,\n",
        "    'Predicted Days Until Maintenance': y_pred,\n",
        "    'Predicted Maintenance Date': predicted_dates\n",
        "})\n",
        "\n",
        "# Display the first few rows of the results\n",
        "print(results_df.head())"
      ]
    }
  ],
  "metadata": {
    "colab": {
      "provenance": []
    },
    "kernelspec": {
      "display_name": "Python 3 (ipykernel)",
      "language": "python",
      "name": "python3"
    },
    "language_info": {
      "codemirror_mode": {
        "name": "ipython",
        "version": 3
      },
      "file_extension": ".py",
      "mimetype": "text/x-python",
      "name": "python",
      "nbconvert_exporter": "python",
      "pygments_lexer": "ipython3",
      "version": "3.10.13"
    }
  },
  "nbformat": 4,
  "nbformat_minor": 5
}
